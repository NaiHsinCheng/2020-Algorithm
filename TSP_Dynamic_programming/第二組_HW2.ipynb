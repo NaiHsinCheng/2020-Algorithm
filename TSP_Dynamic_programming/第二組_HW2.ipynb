{
 "cells": [
  {
   "cell_type": "code",
   "execution_count": 112,
   "metadata": {},
   "outputs": [
    {
     "name": "stdout",
     "output_type": "stream",
     "text": [
      "請輸入檔案名稱：readfile.txt\n"
     ]
    }
   ],
   "source": [
    "import datetime\n",
    "import matplotlib.pyplot as plt\n",
    "file_name = input('請輸入檔案名稱：')"
   ]
  },
  {
   "cell_type": "code",
   "execution_count": 113,
   "metadata": {},
   "outputs": [],
   "source": [
    "starttime = datetime.datetime.now()\n",
    "cache = dict()       #儲存每一個被排過排列\n",
    "\n",
    "def perm(string):    #排列函數\n",
    "    global cache\n",
    "    result = []\n",
    "    if len(string) ==1:\n",
    "        result = [string]\n",
    "        return result\n",
    "        \n",
    "    if string in cache:     #如果被排過了 就直接從cache中拿結果\n",
    "        result = cache[string]\n",
    "    else:                       #沒被排過就排序 然後存進cache中\n",
    "        for index, char in enumerate(string):\n",
    "            for p in perm( string[ : index ] + string[ index+1 : ] ):\n",
    "                result += [char + p]        \n",
    "        cache[string] = result\n",
    "    \n",
    "    return result\n"
   ]
  },
  {
   "cell_type": "code",
   "execution_count": 114,
   "metadata": {},
   "outputs": [],
   "source": [
    "cache_dis = dict()      #紀錄每個算過的\n",
    "\n",
    "def distance(string):    #排列好的字串的總距離\n",
    "    global cache_dis, x, y\n",
    "    dis = 0.0\n",
    "    for i in range(0, len(string)):\n",
    "        if i == 0:\n",
    "            j = len(string)-1\n",
    "        else:\n",
    "            j = i-1\n",
    "        substring = string[i] + string[j]\n",
    "        if substring not in cache_dis:\n",
    "            cache_dis[substring] = ( (x[string[i]] - x[string[j]] )**2 + ( y[string[i]] - y[string[j]] )**2 )**0.5\n",
    "        dis += cache_dis[substring]\n",
    "    return dis\n"
   ]
  },
  {
   "cell_type": "code",
   "execution_count": 115,
   "metadata": {},
   "outputs": [],
   "source": [
    "\"\"\"讀檔\"\"\"\n",
    "f = open(file_name, \"r\")\n",
    "lines = f.readlines()      #讀取全部內容\n",
    "\n",
    "city_name = []                #紀錄城市名字\n",
    "city_code = dict()           #為城市編碼\n",
    "x = dict()                      #key:城市編碼 value:城市x座標\n",
    "y = dict()                     #key:城市編碼 value:城市y座標 \n",
    "code = 97                  #要用來當城市的編碼\n",
    "string = \"\"                 #所有城市編碼的string\n",
    "for i in range(0, lines.__len__(), 1):        #(開始 結束, 步長)\n",
    "    j = 0\n",
    "    for word in lines[i].split():\n",
    "        if j == 0:\n",
    "            city_name.append(word)\n",
    "            city_code[chr(code)] = word\n",
    "            string = string + chr(code)\n",
    "        elif j == 1:\n",
    "            x[chr(code)] = int(word)\n",
    "        else:\n",
    "            y[chr(code)] = int(word)\n",
    "        j = j + 1\n",
    "    code = code + 1\n"
   ]
  },
  {
   "cell_type": "code",
   "execution_count": 116,
   "metadata": {},
   "outputs": [
    {
     "name": "stdout",
     "output_type": "stream",
     "text": [
      "Best Vist Order: 1 3 2 11 9 10 5 4 6 7 8 \n",
      "Best Distance: 167.80695975880067\n",
      "Execution Time: 20(s)\n"
     ]
    }
   ],
   "source": [
    "data = dict()   #紀錄該序列對應到的總距離\n",
    "string0 = string[0]\n",
    "string1 = string[1:]\n",
    "for sub in perm(string1):\n",
    "    sub = string0 + sub\n",
    "    data[sub] = distance(sub)\n",
    "\n",
    "result = \"\"\n",
    "result_code = str(sorted(data.items(), key=lambda d: d[1])[1][0])\n",
    "for v in result_code:\n",
    "    result = result + city_code[v] + ' '\n",
    "endtime = datetime.datetime.now()\n",
    "print('Best Vist Order: ' + result)   #總距離最小的排序\n",
    "print('Best Distance: ' + str(sorted(data.items(), key=lambda d: d[1])[1][1]))     #最小的總距離\n",
    "print('Execution Time: '+ str((endtime - starttime).seconds) +'(s)')"
   ]
  },
  {
   "cell_type": "code",
   "execution_count": 117,
   "metadata": {},
   "outputs": [
    {
     "data": {
      "image/png": "[encoded data removed]",
      "text/plain": [
       "<Figure size 432x288 with 1 Axes>"
      ]
     },
     "metadata": {
      "needs_background": "light"
     },
     "output_type": "display_data"
    }
   ],
   "source": [
    "\"\"\"畫圖\"\"\"\n",
    "X = list()\n",
    "Y = list()\n",
    "result_code = result_code + result_code[0]\n",
    "for i in range(len(result_code)):\n",
    "    X.append(x[result_code[i]])\n",
    "    Y.append(y[result_code[i]])\n",
    "    \n",
    "plt.scatter(X, Y)\n",
    "plt.plot(X, Y)\n",
    "plt.title(\"TSP\")\n",
    "plt.xlabel(\"X\")\n",
    "plt.ylabel(\"Y\")\n",
    "plt.show()"
   ]
  },
  {
   "cell_type": "code",
   "execution_count": null,
   "metadata": {},
   "outputs": [],
   "source": []
  },
  {
   "cell_type": "code",
   "execution_count": null,
   "metadata": {},
   "outputs": [],
   "source": []
  }
 ],
 "metadata": {
  "kernelspec": {
   "display_name": "Python 3",
   "language": "python",
   "name": "python3"
  },
  "language_info": {
   "codemirror_mode": {
    "name": "ipython",
    "version": 3
   },
   "file_extension": ".py",
   "mimetype": "text/x-python",
   "name": "python",
   "nbconvert_exporter": "python",
   "pygments_lexer": "ipython3",
   "version": "3.8.0"
  }
 },
 "nbformat": 4,
 "nbformat_minor": 4
}
